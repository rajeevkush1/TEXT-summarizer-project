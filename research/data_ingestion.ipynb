{
 "cells": [
  {
   "cell_type": "code",
   "execution_count": 1,
   "id": "4196b099",
   "metadata": {
    "execution": {
     "iopub.execute_input": "2025-10-27T11:24:24.039043Z",
     "iopub.status.busy": "2025-10-27T11:24:24.038040Z",
     "iopub.status.idle": "2025-10-27T11:24:24.051903Z",
     "shell.execute_reply": "2025-10-27T11:24:24.049522Z"
    }
   },
   "outputs": [],
   "source": [
    "import os"
   ]
  },
  {
   "cell_type": "code",
   "execution_count": 2,
   "id": "7ce5ac13",
   "metadata": {
    "execution": {
     "iopub.execute_input": "2025-10-27T11:24:24.057655Z",
     "iopub.status.busy": "2025-10-27T11:24:24.057655Z",
     "iopub.status.idle": "2025-10-27T11:24:24.071821Z",
     "shell.execute_reply": "2025-10-27T11:24:24.069803Z"
    }
   },
   "outputs": [
    {
     "data": {
      "text/plain": [
       "'r:\\\\ML PROJECTS\\\\MODELS\\\\TEXT-summarizer-project\\\\research'"
      ]
     },
     "execution_count": 2,
     "metadata": {},
     "output_type": "execute_result"
    }
   ],
   "source": [
    "%pwd"
   ]
  },
  {
   "cell_type": "code",
   "execution_count": 3,
   "id": "7212fe2b",
   "metadata": {
    "execution": {
     "iopub.execute_input": "2025-10-27T11:24:24.079148Z",
     "iopub.status.busy": "2025-10-27T11:24:24.078304Z",
     "iopub.status.idle": "2025-10-27T11:24:24.086420Z",
     "shell.execute_reply": "2025-10-27T11:24:24.084766Z"
    }
   },
   "outputs": [],
   "source": [
    "os.chdir(\"../..\")"
   ]
  },
  {
   "cell_type": "code",
   "execution_count": 4,
   "id": "3fd3fe17",
   "metadata": {
    "execution": {
     "iopub.execute_input": "2025-10-27T11:24:24.093621Z",
     "iopub.status.busy": "2025-10-27T11:24:24.092949Z",
     "iopub.status.idle": "2025-10-27T11:24:24.107100Z",
     "shell.execute_reply": "2025-10-27T11:24:24.104343Z"
    }
   },
   "outputs": [
    {
     "data": {
      "text/plain": [
       "'r:\\\\ML PROJECTS\\\\MODELS'"
      ]
     },
     "execution_count": 4,
     "metadata": {},
     "output_type": "execute_result"
    }
   ],
   "source": [
    "%pwd"
   ]
  },
  {
   "cell_type": "code",
   "execution_count": 5,
   "id": "4fa8a1cd",
   "metadata": {
    "execution": {
     "iopub.execute_input": "2025-10-27T11:24:24.116166Z",
     "iopub.status.busy": "2025-10-27T11:24:24.114263Z",
     "iopub.status.idle": "2025-10-27T11:24:24.128749Z",
     "shell.execute_reply": "2025-10-27T11:24:24.125295Z"
    }
   },
   "outputs": [],
   "source": [
    "from dataclasses import dataclass\n",
    "from pathlib import Path\n",
    "\n",
    "@dataclass\n",
    "class DataIngestionConfig:\n",
    "    root_dir: Path\n",
    "    source_URL: str\n",
    "    local_data_file: Path\n",
    "    unzip_dir: Path"
   ]
  },
  {
   "cell_type": "code",
   "execution_count": 6,
   "id": "a5beff5e",
   "metadata": {
    "execution": {
     "iopub.execute_input": "2025-10-27T11:24:24.136341Z",
     "iopub.status.busy": "2025-10-27T11:24:24.135112Z",
     "iopub.status.idle": "2025-10-27T11:24:24.287217Z",
     "shell.execute_reply": "2025-10-27T11:24:24.284267Z"
    }
   },
   "outputs": [],
   "source": [
    "from MyProject.constants import *\n",
    "from MyProject.utils.common import read_yaml, create_directories"
   ]
  },
  {
   "cell_type": "code",
   "execution_count": 7,
   "id": "c5193bc4",
   "metadata": {
    "execution": {
     "iopub.execute_input": "2025-10-27T11:24:24.292727Z",
     "iopub.status.busy": "2025-10-27T11:24:24.292727Z",
     "iopub.status.idle": "2025-10-27T11:24:24.305795Z",
     "shell.execute_reply": "2025-10-27T11:24:24.303702Z"
    }
   },
   "outputs": [],
   "source": [
    "class ConfigManager:\n",
    "    def __init__(self, config_filepath=CONFIG_FILE_PATH, params_filepath=PARAMS_FILE_PATH):\n",
    "        self.config = read_yaml(config_filepath)\n",
    "        self.params = read_yaml(params_filepath)\n",
    "        \n",
    "        create_directories([self.config.artifacts_root])\n",
    "\n",
    "    def get_data_ingestion_config(self) -> DataIngestionConfig:\n",
    "        config = self.config['data_ingestion']\n",
    "\n",
    "\n",
    "        create_directories([config.root_dir])\n",
    "\n",
    "\n",
    "\n",
    "        data_ingestion_config = DataIngestionConfig(\n",
    "            root_dir=Path(config['root_dir']),\n",
    "            source_URL=config['source_URL'],\n",
    "            local_data_file=Path(config['local_data_file']),\n",
    "            unzip_dir=Path(config['unzip_dir'])\n",
    "        )\n",
    "        return data_ingestion_config"
   ]
  },
  {
   "cell_type": "code",
   "execution_count": 8,
   "id": "ce8d5071",
   "metadata": {
    "execution": {
     "iopub.execute_input": "2025-10-27T11:24:24.313975Z",
     "iopub.status.busy": "2025-10-27T11:24:24.312920Z",
     "iopub.status.idle": "2025-10-27T11:24:24.324179Z",
     "shell.execute_reply": "2025-10-27T11:24:24.321127Z"
    }
   },
   "outputs": [],
   "source": [
    "import os\n",
    "import urllib.request as request\n",
    "import zipfile\n",
    "from MyProject.logging import logger\n",
    "from MyProject.utils.common import get_size "
   ]
  },
  {
   "cell_type": "code",
   "execution_count": 9,
   "id": "2dc506d0",
   "metadata": {
    "execution": {
     "iopub.execute_input": "2025-10-27T11:24:24.329738Z",
     "iopub.status.busy": "2025-10-27T11:24:24.329738Z",
     "iopub.status.idle": "2025-10-27T11:24:24.342665Z",
     "shell.execute_reply": "2025-10-27T11:24:24.342665Z"
    }
   },
   "outputs": [],
   "source": [
    "class DataIngestion:\n",
    "    def __init__(self, config: DataIngestionConfig):\n",
    "        self.config = config\n",
    "\n",
    "    def download_data(self) -> Path:\n",
    "        logger.info(\"Starting data download...\")\n",
    "        if not os.path.exists(self.config.local_data_file):\n",
    "            filename, headers = request.urlretrieve(\n",
    "                self.config.source_URL, \n",
    "                self.config.local_data_file\n",
    "            )\n",
    "            logger.info(f\"Data downloaded successfully and saved to {filename} with size {get_size(Path(filename))}\")\n",
    "        else:\n",
    "            logger.info(\"Data file already exists. Skipping download.\")\n",
    "        return self.config.local_data_file\n",
    "    \n",
    "    def extract_zip_file(self, zip_file_path: Path):\n",
    "        logger.info(\"Starting data extraction...\")\n",
    "        with zipfile.ZipFile(zip_file_path, 'r') as zip_ref:\n",
    "            zip_ref.extractall(self.config.unzip_dir)\n",
    "        logger.info(f\"Data extracted successfully to {self.config.unzip_dir}\")"
   ]
  },
  {
   "cell_type": "code",
   "execution_count": 14,
   "id": "0e5d5993",
   "metadata": {
    "execution": {
     "iopub.execute_input": "2025-10-27T11:24:24.382935Z",
     "iopub.status.busy": "2025-10-27T11:24:24.382935Z",
     "iopub.status.idle": "2025-10-27T11:24:27.932312Z",
     "shell.execute_reply": "2025-10-27T11:24:27.932312Z"
    }
   },
   "outputs": [
    {
     "name": "stdout",
     "output_type": "stream",
     "text": [
      "[2025-10-27 17:18:08,414 : INFO : common: YAML file R:\\ML PROJECTS\\MODELS\\TEXT-summarizer-project\\config\\config.yaml loaded successfully]\n",
      "[2025-10-27 17:18:08,421 : INFO : common: YAML file R:\\ML PROJECTS\\MODELS\\TEXT-summarizer-project\\params.yaml loaded successfully]\n",
      "[2025-10-27 17:18:08,424 : INFO : common: Created directory at: artifacts]\n",
      "[2025-10-27 17:18:08,427 : INFO : common: Created directory at: artifacts\\data_ingestion]\n",
      "[2025-10-27 17:18:08,429 : INFO : 870230852: Starting data download...]\n",
      "[2025-10-27 17:18:08,431 : INFO : 870230852: Data file already exists. Skipping download.]\n",
      "[2025-10-27 17:18:08,432 : INFO : 870230852: Starting data extraction...]\n",
      "[2025-10-27 17:18:08,748 : INFO : 870230852: Data extracted successfully to artifacts\\data_ingestion\\extracted_data]\n"
     ]
    }
   ],
   "source": [
    "try:\n",
    "    config_manager = ConfigManager()\n",
    "    data_ingestion_config = config_manager.get_data_ingestion_config()\n",
    "    \n",
    "    data_ingestion = DataIngestion(config=data_ingestion_config)\n",
    "    \n",
    "    downloaded_file=data_ingestion.download_data()\n",
    "    data_ingestion.extract_zip_file(downloaded_file)\n",
    "except Exception as e:\n",
    "    raise e"
   ]
  },
  {
   "cell_type": "code",
   "execution_count": null,
   "id": "0eb6a010",
   "metadata": {},
   "outputs": [],
   "source": []
  },
  {
   "cell_type": "code",
   "execution_count": null,
   "id": "bb7390b7",
   "metadata": {},
   "outputs": [],
   "source": []
  },
  {
   "cell_type": "code",
   "execution_count": null,
   "id": "e0f1cfa5",
   "metadata": {},
   "outputs": [],
   "source": []
  },
  {
   "cell_type": "code",
   "execution_count": null,
   "id": "4252e6b3",
   "metadata": {},
   "outputs": [],
   "source": []
  },
  {
   "cell_type": "code",
   "execution_count": null,
   "id": "09156e3e",
   "metadata": {},
   "outputs": [],
   "source": []
  },
  {
   "cell_type": "code",
   "execution_count": null,
   "id": "67727075",
   "metadata": {},
   "outputs": [],
   "source": []
  },
  {
   "cell_type": "code",
   "execution_count": null,
   "id": "803192e9",
   "metadata": {},
   "outputs": [],
   "source": []
  },
  {
   "cell_type": "code",
   "execution_count": null,
   "id": "71566065",
   "metadata": {},
   "outputs": [],
   "source": []
  },
  {
   "cell_type": "code",
   "execution_count": null,
   "id": "67a15426",
   "metadata": {},
   "outputs": [],
   "source": []
  },
  {
   "cell_type": "code",
   "execution_count": null,
   "id": "205fd8d6",
   "metadata": {},
   "outputs": [],
   "source": []
  },
  {
   "cell_type": "code",
   "execution_count": null,
   "id": "2a257b6a",
   "metadata": {},
   "outputs": [],
   "source": []
  },
  {
   "cell_type": "code",
   "execution_count": null,
   "id": "a377139d",
   "metadata": {},
   "outputs": [],
   "source": []
  },
  {
   "cell_type": "code",
   "execution_count": null,
   "id": "1f3892ae",
   "metadata": {},
   "outputs": [],
   "source": []
  },
  {
   "cell_type": "code",
   "execution_count": null,
   "id": "162bafa3",
   "metadata": {},
   "outputs": [],
   "source": []
  },
  {
   "cell_type": "code",
   "execution_count": null,
   "id": "4949f152",
   "metadata": {},
   "outputs": [],
   "source": []
  }
 ],
 "metadata": {
  "kernelspec": {
   "display_name": "virtual_env",
   "language": "python",
   "name": "python3"
  },
  "language_info": {
   "codemirror_mode": {
    "name": "ipython",
    "version": 3
   },
   "file_extension": ".py",
   "mimetype": "text/x-python",
   "name": "python",
   "nbconvert_exporter": "python",
   "pygments_lexer": "ipython3",
   "version": "3.12.6"
  }
 },
 "nbformat": 4,
 "nbformat_minor": 5
}
